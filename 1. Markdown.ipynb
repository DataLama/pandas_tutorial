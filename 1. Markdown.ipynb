{
 "cells": [
  {
   "cell_type": "markdown",
   "metadata": {},
   "source": [
    "# Markdown(마크다운)이란?\n",
    "- 일반 텍스트 문서의 양식을 html형태로 편집하는 문법임.\n",
    "- html 태그를 사용하지 않고 간단하게 웹 형태로 표현할 수 있는 문법임."
   ]
  },
  {
   "cell_type": "markdown",
   "metadata": {},
   "source": [
    "간단하게 마크다운 문법을 살펴보자."
   ]
  },
  {
   "cell_type": "markdown",
   "metadata": {},
   "source": [
    "# 제목\n",
    "html 헤더 태그와 동일한 기능을 함."
   ]
  },
  {
   "cell_type": "markdown",
   "metadata": {},
   "source": [
    "### 입력"
   ]
  },
  {
   "cell_type": "markdown",
   "metadata": {},
   "source": [
    "```\n",
    "# 나는 `<h1>`이야.\n",
    "## 나는 `<h2>`이야.\n",
    "### 나는 `<h3>`이야.\n",
    "#### 나는 `<h4>`이야.\n",
    "##### 나는 `<h5>`이야.\n",
    "```"
   ]
  },
  {
   "cell_type": "markdown",
   "metadata": {},
   "source": [
    "### 결과"
   ]
  },
  {
   "cell_type": "markdown",
   "metadata": {},
   "source": [
    "# 나는 `<h1>`이야.\n",
    "## 나는 `<h2>`이야.\n",
    "### 나는 `<h3>`이야.\n",
    "#### 나는 `<h4>`이야.\n",
    "##### 나는 `<h5>`이야."
   ]
  },
  {
   "cell_type": "markdown",
   "metadata": {},
   "source": [
    "# 구분선"
   ]
  },
  {
   "cell_type": "markdown",
   "metadata": {},
   "source": [
    "### 입력"
   ]
  },
  {
   "cell_type": "markdown",
   "metadata": {},
   "source": [
    "```\n",
    "---\n",
    "```"
   ]
  },
  {
   "cell_type": "markdown",
   "metadata": {},
   "source": [
    "### 결과"
   ]
  },
  {
   "cell_type": "markdown",
   "metadata": {},
   "source": [
    "---"
   ]
  },
  {
   "cell_type": "markdown",
   "metadata": {},
   "source": [
    "# 강조"
   ]
  },
  {
   "cell_type": "markdown",
   "metadata": {},
   "source": [
    "### 입력"
   ]
  },
  {
   "cell_type": "markdown",
   "metadata": {},
   "source": [
    "```\n",
    "이텔릭체는 *별표(asterisks)* 혹은 _언더바(underscore)_를 사용하세요.\n",
    "두껍게는 **별표(asterisks)** 혹은 __언더바(underscore)__를 사용하세요.\n",
    "**_이텔릭체_와 두껍게**를 같이 사용할 수 있습니다.\n",
    "취소선은 ~~물결표시(tilde)~~를 사용하세요.\n",
    "<u>밑줄</u>은 `<u></u>`를 사용하세요.\n",
    "```"
   ]
  },
  {
   "cell_type": "markdown",
   "metadata": {},
   "source": [
    "### 결과"
   ]
  },
  {
   "cell_type": "markdown",
   "metadata": {},
   "source": [
    "이텔릭체는 *별표(asterisks)* 혹은 _언더바(underscore)_를 사용하세요. <br>\n",
    "두껍게는 **별표(asterisks)** 혹은 __언더바(underscore)__를 사용하세요. <br>\n",
    "**_이텔릭체_와 두껍게**를 같이 사용할 수 있습니다. <br>\n",
    "취소선은 ~~물결표시(tilde)~~를 사용하세요. <br>\n",
    "<u>밑줄</u>은 `<u></u>`를 사용하세요."
   ]
  },
  {
   "cell_type": "markdown",
   "metadata": {},
   "source": [
    "$\\Longrightarrow$ 마크다운은 근본적으로 마크업 언어 (html)의 일종이기 때문에 html 태그를 섞어서 사용가능함. (밑줄의 경우 html 태그로 표현)"
   ]
  },
  {
   "cell_type": "markdown",
   "metadata": {},
   "source": [
    "# 목록"
   ]
  },
  {
   "cell_type": "markdown",
   "metadata": {},
   "source": [
    "### 입력"
   ]
  },
  {
   "cell_type": "markdown",
   "metadata": {},
   "source": [
    "```\n",
    "- 안녕\n",
    "    + 이것은\n",
    "        * unordered list야.\n",
    "\n",
    "1. 안녕\n",
    "    2. 이것은\n",
    "        3. ordered list야.\n",
    "```"
   ]
  },
  {
   "cell_type": "markdown",
   "metadata": {},
   "source": [
    "### 결과"
   ]
  },
  {
   "cell_type": "markdown",
   "metadata": {},
   "source": [
    "- 안녕\n",
    "    + 이것은\n",
    "        * unordered list야.\n",
    "\n",
    "1. 안녕\n",
    "    2. 이것은\n",
    "        3. ordered list야."
   ]
  },
  {
   "cell_type": "markdown",
   "metadata": {},
   "source": [
    "# 코드(code) 강조"
   ]
  },
  {
   "cell_type": "markdown",
   "metadata": {},
   "source": [
    "## inline 코드 강조.\n",
    "- `를 사용해서 인라인 코드 강조를 할 수 있음."
   ]
  },
  {
   "cell_type": "markdown",
   "metadata": {},
   "source": [
    "### 입력"
   ]
  },
  {
   "cell_type": "markdown",
   "metadata": {},
   "source": [
    "```\n",
    "판다스 라이브러리 설치는 `pip install pandas`를 하면 됨.\n",
    "```"
   ]
  },
  {
   "cell_type": "markdown",
   "metadata": {},
   "source": [
    "### 결과"
   ]
  },
  {
   "cell_type": "markdown",
   "metadata": {},
   "source": [
    "\n",
    "판다스 라이브러리 설치는 `pip install pandas`를 하면 됨.\n"
   ]
  },
  {
   "cell_type": "markdown",
   "metadata": {},
   "source": [
    "## 블록 코드 강조.\n",
    "- ```를 사용해서 블록 코드 강조 가능. 내가 위에 한게 다 블록 코드 강조임.\n",
    "- ```옆에 프로그램 언어를 써서 그 언어의 문법으로 표현 가능."
   ]
  },
  {
   "cell_type": "markdown",
   "metadata": {},
   "source": [
    "```python\n",
    "print('아래와 같이 list안에 반복문을 사용하는 방식을 list comprehension이라함.)\n",
    "\n",
    "my_list = [i for i in range(10)]\n",
    "```"
   ]
  },
  {
   "cell_type": "markdown",
   "metadata": {},
   "source": [
    "# 줄바꿈"
   ]
  },
  {
   "cell_type": "markdown",
   "metadata": {},
   "source": [
    "### 입력"
   ]
  },
  {
   "cell_type": "markdown",
   "metadata": {},
   "source": [
    "```\n",
    "미리 말할게 사과는 안 해 <br>\n",
    "아무 말 없이 너 후회 안 해?\n",
    "```"
   ]
  },
  {
   "cell_type": "markdown",
   "metadata": {},
   "source": [
    "### 결과"
   ]
  },
  {
   "cell_type": "markdown",
   "metadata": {},
   "source": [
    "미리 말할게 사과는 안 해 <br>\n",
    "아무 말 없이 너 후회 안 해?"
   ]
  },
  {
   "cell_type": "markdown",
   "metadata": {},
   "source": [
    "\n",
    "<br>\n"
   ]
  },
  {
   "cell_type": "markdown",
   "metadata": {},
   "source": [
    "---"
   ]
  },
  {
   "cell_type": "markdown",
   "metadata": {},
   "source": [
    "이제 구글링해서 아래 마크다운 문법을 알아서 정리ㄲ\n",
    "- 입력은 마크다운 입력을 블록 형식의 코드 강조를 통해 입력하고,\n",
    "- 결과는 그냥 마크다운 셀에 마크다운 문법을 입력하자."
   ]
  },
  {
   "cell_type": "markdown",
   "metadata": {},
   "source": [
    "# 링크"
   ]
  },
  {
   "cell_type": "markdown",
   "metadata": {},
   "source": [
    "### 입력"
   ]
  },
  {
   "cell_type": "markdown",
   "metadata": {},
   "source": [
    "### 결과"
   ]
  },
  {
   "cell_type": "markdown",
   "metadata": {},
   "source": [
    "# 이미지 삽입"
   ]
  },
  {
   "cell_type": "markdown",
   "metadata": {},
   "source": [
    "### 입력"
   ]
  },
  {
   "cell_type": "markdown",
   "metadata": {},
   "source": [
    "### 결과"
   ]
  },
  {
   "cell_type": "markdown",
   "metadata": {},
   "source": [
    "# 표"
   ]
  },
  {
   "cell_type": "markdown",
   "metadata": {},
   "source": [
    "### 입력"
   ]
  },
  {
   "cell_type": "markdown",
   "metadata": {},
   "source": [
    "### 결과"
   ]
  },
  {
   "cell_type": "markdown",
   "metadata": {},
   "source": [
    "# 인용문 (Block Quote)"
   ]
  },
  {
   "cell_type": "markdown",
   "metadata": {},
   "source": [
    "### 입력"
   ]
  },
  {
   "cell_type": "markdown",
   "metadata": {},
   "source": [
    "### 결과"
   ]
  },
  {
   "cell_type": "markdown",
   "metadata": {},
   "source": [
    "# latex (수식)"
   ]
  },
  {
   "cell_type": "markdown",
   "metadata": {},
   "source": [
    "latex 문법은 [여기](https://ko.wikipedia.org/wiki/%EC%9C%84%ED%82%A4%EB%B0%B1%EA%B3%BC:TeX_%EB%AC%B8%EB%B2%95) 참고"
   ]
  },
  {
   "cell_type": "markdown",
   "metadata": {},
   "source": [
    "### 입력"
   ]
  },
  {
   "cell_type": "markdown",
   "metadata": {},
   "source": [
    "### 결과"
   ]
  }
 ],
 "metadata": {
  "kernelspec": {
   "display_name": "Python 3",
   "language": "python",
   "name": "python3"
  },
  "language_info": {
   "codemirror_mode": {
    "name": "ipython",
    "version": 3
   },
   "file_extension": ".py",
   "mimetype": "text/x-python",
   "name": "python",
   "nbconvert_exporter": "python",
   "pygments_lexer": "ipython3",
   "version": "3.6.8"
  }
 },
 "nbformat": 4,
 "nbformat_minor": 4
}
